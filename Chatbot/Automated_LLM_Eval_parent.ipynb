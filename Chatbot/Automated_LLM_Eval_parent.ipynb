{
 "cells": [
  {
   "cell_type": "markdown",
   "metadata": {},
   "source": [
    "Automated LLM Evaluation"
   ]
  },
  {
   "cell_type": "code",
   "execution_count": 1,
   "metadata": {},
   "outputs": [
    {
     "data": {
      "text/plain": [
       "True"
      ]
     },
     "execution_count": 1,
     "metadata": {},
     "output_type": "execute_result"
    }
   ],
   "source": [
    "from dotenv import load_dotenv\n",
    "load_dotenv()"
   ]
  },
  {
   "cell_type": "code",
   "execution_count": 2,
   "metadata": {},
   "outputs": [],
   "source": [
    "from langsmith import Client\n",
    "from langsmith.evaluation import RunEvaluator, EvaluationResult\n",
    "from langchain.evaluation import load_evaluator\n",
    "from langchain.smith import RunEvalConfig\n",
    "from parent_chat_prime import Nurse2NurseChatbotSummarize\n",
    "\n",
    "\n",
    "from typing import Optional, TypedDict, Annotated\n",
    "from langchain_openai import ChatOpenAI"
   ]
  },
  {
   "cell_type": "code",
   "execution_count": null,
   "metadata": {},
   "outputs": [],
   "source": [
    "example = {\n",
    "    \"inputs\": {\n",
    "        \"prompt\": \"What \",\n",
    "        \"patient_file\": \"Kate_Data.json\",  # This file is used to load the patient data in your chain.\n",
    "        # Optionally, you can provide a retrieved context (e.g., from your reference document) if you want to evaluate groundedness.\n",
    "        \"retrieved_context\": \"Vital sign ranges are provided in the document\",\n",
    "        \"patient_context\": \"Patient Data: [List of patient readings extracted from the JSON file].\"       \n",
    "    },\n",
    "    \"outputs\": {\n",
    "        \"label\": (\"### **Maximum Recorded Vital Signs and Corresponding Timestamps:**\"\n",
    "                \"- **Maximum Heart Rate:** **150 bpm**\"  \n",
    "                \"- **Occurred at:** **2024-11-29 02:11:33**\"\n",
    "                \"- **Maximum Respiratory Rate:** **102 breaths/min** \" \n",
    "                \"- **Occurred at:** **2024-11-29 05:56:33**\"\n",
    "                \"- **Maximum Body Temperature:** **37.4 °C**\"  \n",
    "                \"- **Occurred at:** **2024-11-28 23:56:33** and **2024-11-29 02:16:33**\"  \n",
    "                \"The respiratory rate indicates tachypnea episode, requiring continued monitoring for signs of **distress or metabolic instability**.\"\n",
    "                    )  \n",
    "    }\n",
    "}"
   ]
  },
  {
   "cell_type": "code",
   "execution_count": null,
   "metadata": {},
   "outputs": [],
   "source": [
    "# Create a LangSmith client and dataset.\n",
    "client = Client()\n",
    "dataset_name = f\"NICU Nurse Chat Evaluation - Minimum Readings\"\n",
    "dataset = client.create_dataset(dataset_name=dataset_name)\n",
    "client.create_examples(\n",
    "    inputs=[example[\"inputs\"]],\n",
    "    outputs=[example[\"outputs\"]],\n",
    "    dataset_id=dataset.id,\n",
    ")"
   ]
  },
  {
   "cell_type": "code",
   "execution_count": null,
   "metadata": {},
   "outputs": [
    {
     "name": "stdout",
     "output_type": "stream",
     "text": [
      "View the evaluation results for project 'dependable-cloth-60' at:\n",
      "https://smith.langchain.com/o/5d77eab9-aadf-5109-87bb-380ed3a68b7e/datasets/cee7d691-1e8a-48af-be50-288323664e79/compare?selectedSessions=51728d67-0e44-4172-babd-dc7f37c872f2\n",
      "\n",
      "View all tests for Dataset NICU Nurse Chat Evaluation - Maximum Readings at:\n",
      "https://smith.langchain.com/o/5d77eab9-aadf-5109-87bb-380ed3a68b7e/datasets/cee7d691-1e8a-48af-be50-288323664e79\n",
      "[------------------------------------------------->] 1/1Evaluation Results: {'project_name': 'dependable-cloth-60', 'results': {'4b14bde2-440a-4c1b-b60a-8d1e4dac561f': {'input': {'prompt': 'What was the maximum reading for heart rate, respiratory rate and body temperature and when did they each occur? ', 'patient_file': 'Kate_Data.json', 'patient_context': 'Patient Data: [List of patient readings extracted from the JSON file].', 'retrieved_context': 'Vital sign ranges are provided in the document'}, 'feedback': [EvaluationResult(key='qa', score=0, value='INCORRECT', comment=None, correction=None, evaluator_info={}, feedback_config=None, source_run_id=None, target_run_id=None, extra=None), EvaluationResult(key='labeled_criteria:relevance', score=1.0, value=None, comment=None, correction=None, evaluator_info={}, feedback_config=None, source_run_id=None, target_run_id=None, extra=None), EvaluationResult(key='labeled_criteria:groundedness', score=1.0, value=None, comment=None, correction=None, evaluator_info={}, feedback_config=None, source_run_id=None, target_run_id=None, extra=None)], 'execution_time': 22.743183, 'run_id': '1dfa1558-a34e-4244-94fa-16863580d9fc', 'output': {'answer': 'Based on the records:\\n\\n• The highest heart rate was 150 bpm, recorded at 2024-11-29 02:11:33.  \\n• The highest respiratory rate was 102 breaths/min, recorded at 2024-11-29 05:56:33.  \\n• The highest body temperature was 37.4 °C, recorded at 2024-11-29 02:16:33.\\n\\nPlease let me know if you need additional details.', 'retrieved_context': 'A\\n Normal Heart Rate and Respiratory Rate Ranges\\nAGE HEART RATE, NORMAL RANGE \\n(BEATS  PER  MINUTE)\\nRESPIRATORY RATE, NORMAL RANGE \\n(BREATHS  PER  MINUTE)\\nPreterm 141–171, depending on chronologic age 40–70, depending on chronologic age', 'patient_context': [Document(id='7383e972-49d1-4cc7-8797-8b7edbf84ecb', metadata={'source': 'C:\\\\Users\\\\elfo\\\\Documents\\\\Capstone\\\\LangChainSummarizers\\\\NurseToNurse_SUMMARY\\\\Nurse Chatbot\\\\Final Implementation\\\\Kate_Data.json', 'seq_num': 1, 'start_index': 19199}, page_content='\"body_temperature\": \"37.2 \\\\u00b0C\", \"HR_Delta\": \"10 \\\\u0394 bpm\", \"RespRate_Delta\": \"1 \\\\u0394 breaths/min\", \"Temp_Delta\": \"0.4 \\\\u00b0C\"}, \"pain_level\": \"Low\"}, {\"timestamp\": \"2024-11-29 05:26:33\", \"vital_signs\": {\"heart_rate\": \"128 bpm\", \"respiratory_rate\": \"29 breaths/min\", \"body_temperature\": \"37.0 \\\\u00b0C\", \"HR_Delta\": \"9 \\\\u0394 bpm\", \"RespRate_Delta\": \"16 \\\\u0394 breaths/min\", \"Temp_Delta\": \"0.2 \\\\u00b0C\"}, \"pain_level\": \"Low\"}, {\"timestamp\": \"2024-11-29 05:31:33\", \"vital_signs\": {\"heart_rate\": \"118 bpm\", \"respiratory_rate\": \"65 breaths/min\", \"body_temperature\": \"37.0 \\\\u00b0C\", \"HR_Delta\": \"10 \\\\u0394 bpm\", \"RespRate_Delta\": \"36 \\\\u0394 breaths/min\", \"Temp_Delta\": \"0.0 \\\\u00b0C\"}, \"pain_level\": \"Low\"}, {\"timestamp\": \"2024-11-29 05:36:33\", \"vital_signs\": {\"heart_rate\": \"131 bpm\", \"respiratory_rate\": \"29 breaths/min\", \"body_temperature\": \"36.6 \\\\u00b0C\", \"HR_Delta\": \"13 \\\\u0394 bpm\", \"RespRate_Delta\": \"36 \\\\u0394 breaths/min\", \"Temp_Delta\": \"0.4 \\\\u00b0C\"}, \"pain_level\": \"Low\"}, {\"timestamp\": \"2024-11-29 05:41:33\", \"vital_signs\": {\"heart_rate\": \"128 bpm\", \"respiratory_rate\": \"86 breaths/min\", \"body_temperature\": \"37.3 \\\\u00b0C\", \"HR_Delta\": \"3 \\\\u0394 bpm\", \"RespRate_Delta\": \"57 \\\\u0394 breaths/min\", \"Temp_Delta\": \"0.7 \\\\u00b0C\"}, \"pain_level\": \"Moderate\"}, {\"timestamp\": \"2024-11-29 05:46:33\", \"vital_signs\": {\"heart_rate\": \"137 bpm\", \"respiratory_rate\": \"65 breaths/min\", \"body_temperature\": \"37.1 \\\\u00b0C\", \"HR_Delta\": \"9 \\\\u0394 bpm\", \"RespRate_Delta\": \"21 \\\\u0394 breaths/min\", \"Temp_Delta\": \"0.2 \\\\u00b0C\"}, \"pain_level\": \"Low\"}, {\"timestamp\": \"2024-11-29 05:51:33\", \"vital_signs\": {\"heart_rate\": \"130 bpm\", \"respiratory_rate\": \"89 breaths/min\", \"body_temperature\": \"37.2 \\\\u00b0C\", \"HR_Delta\": \"7 \\\\u0394 bpm\", \"RespRate_Delta\": \"24 \\\\u0394 breaths/min\", \"Temp_Delta\": \"0.1 \\\\u00b0C\"}, \"pain_level\": \"Moderate\"}, {\"timestamp\": \"2024-11-29 05:56:33\", \"vital_signs\": {\"heart_rate\": \"146 bpm\", \"respiratory_rate\": \"102 breaths/min\", \"body_temperature\": \"37.0 \\\\u00b0C\", \"HR_Delta\": \"16 \\\\u0394 bpm\", \"RespRate_Delta\": \"13 \\\\u0394 breaths/min\", \"Temp_Delta\": \"0.2 \\\\u00b0C\"}, \"pain_level\": \"High\", \"intervention\": [{\"type\": \"diaper change\", \"detail\": \"Scheduled diaper change\"}, {\"type\": \"pain management\", \"detail\": \"provide non-nutritive sucking\"}]}, {\"timestamp\": \"2024-11-29 06:01:33\", \"vital_signs\": {\"heart_rate\": \"126 bpm\", \"respiratory_rate\": \"73 breaths/min\", \"body_temperature\": \"36.7 \\\\u00b0C\", \"HR_Delta\": \"19 \\\\u0394 bpm\", \"RespRate_Delta\": \"29 \\\\u0394 breaths/min\", \"Temp_Delta\": \"0.3 \\\\u00b0C\"}, \"pain_level\": \"Moderate\"}, {\"timestamp\": \"2024-11-29 06:06:33\", \"vital_signs\": {\"heart_rate\": \"126 bpm\", \"respiratory_rate\": \"96 breaths/min\", \"body_temperature\": \"36.9 \\\\u00b0C\", \"HR_Delta\": \"1 \\\\u0394 bpm\", \"RespRate_Delta\": \"23 \\\\u0394 breaths/min\", \"Temp_Delta\": \"0.2 \\\\u00b0C\"}, \"pain_level\": \"Moderate\"}, {\"timestamp\": \"2024-11-29 06:11:33\", \"vital_signs\": {\"heart_rate\": \"124 bpm\", \"respiratory_rate\": \"60 breaths/min\", \"body_temperature\": \"37.1 \\\\u00b0C\", \"HR_Delta\": \"2 \\\\u0394 bpm\", \"RespRate_Delta\": \"36 \\\\u0394 breaths/min\", \"Temp_Delta\": \"0.2 \\\\u00b0C\"}, \"pain_level\": \"Low\"}, {\"timestamp\": \"2024-11-29 06:16:33\", \"vital_signs\": {\"heart_rate\": \"122 bpm\", \"respiratory_rate\": \"28 breaths/min\", \"body_temperature\": \"36.8 \\\\u00b0C\", \"HR_Delta\": \"2 \\\\u0394 bpm\", \"RespRate_Delta\": \"32 \\\\u0394 breaths/min\", \"Temp_Delta\": \"0.3 \\\\u00b0C\"}, \"pain_level\": \"Low\"}, {\"timestamp\": \"2024-11-29 06:21:33\", \"vital_signs\": {\"heart_rate\": \"145 bpm\", \"respiratory_rate\": \"50 breaths/min\", \"body_temperature\": \"36.9 \\\\u00b0C\", \"HR_Delta\": \"23 \\\\u0394 bpm\", \"RespRate_Delta\": \"22 \\\\u0394 breaths/min\", \"Temp_Delta\": \"0.1 \\\\u00b0C\"}, \"pain_level\": \"Low\"}, {\"timestamp\": \"2024-11-29 06:26:33\", \"vital_signs\": {\"heart_rate\": \"141 bpm\", \"respiratory_rate\": \"83 breaths/min\", \"body_temperature\": \"36.9 \\\\u00b0C\", \"HR_Delta\": \"4 \\\\u0394 bpm\", \"RespRate_Delta\": \"33 \\\\u0394 breaths/min\", \"Temp_Delta\": \"0.0 \\\\u00b0C\"}, \"pain_level\": \"Moderate\"}, {\"timestamp\": \"2024-11-29 06:31:33\", \"vital_signs\": {\"heart_rate\": \"131 bpm\", \"respiratory_rate\": \"75 breaths/min\", \"body_temperature\": \"36.8 \\\\u00b0C\", \"HR_Delta\": \"10 \\\\u0394 bpm\", \"RespRate_Delta\": \"8 \\\\u0394 breaths/min\", \"Temp_Delta\": \"0.1 \\\\u00b0C\"}, \"pain_level\": \"Moderate\"}, {\"timestamp\": \"2024-11-29 06:36:33\", \"vital_signs\": {\"heart_rate\": \"124 bpm\", \"respiratory_rate\": \"82 breaths/min\", \"body_temperature\": \"37.0 \\\\u00b0C\", \"HR_Delta\": \"6 \\\\u0394 bpm\", \"RespRate_Delta\": \"7 \\\\u0394 breaths/min\", \"Temp_Delta\": \"0.2 \\\\u00b0C\"}, \"pain_level\": \"Moderate\"}, {\"timestamp\": \"2024-11-29 06:41:33\", \"vital_signs\": {\"heart_rate\": \"126 bpm\", \"respiratory_rate\": \"86 breaths/min\", \"body_temperature\": \"36.9 \\\\u00b0C\", \"HR_Delta\": \"1 \\\\u0394 bpm\", \"RespRate_Delta\": \"4 \\\\u0394 breaths/min\", \"Temp_Delta\": \"0.1 \\\\u00b0C\"}, \"pain_level\": \"Moderate\"}, {\"timestamp\": \"2024-11-29 06:46:33\", \"vital_signs\": {\"heart_rate\": \"130 bpm\", \"respiratory_rate\": \"100 breaths/min\", \"body_temperature\": \"36.5 \\\\u00b0C\", \"HR_Delta\": \"4 \\\\u0394 bpm\", \"RespRate_Delta\": \"14 \\\\u0394 breaths/min\", \"Temp_Delta\":'), Document(id='b7ded741-050b-4f8f-afba-f4412aea21eb', metadata={'source': 'C:\\\\Users\\\\elfo\\\\Documents\\\\Capstone\\\\LangChainSummarizers\\\\NurseToNurse_SUMMARY\\\\Nurse Chatbot\\\\Final Implementation\\\\Kate_Data.json', 'seq_num': 1, 'start_index': 9605}, page_content='\"2 \\\\u0394 breaths/min\", \"Temp_Delta\": \"0.1 \\\\u00b0C\"}, \"pain_level\": \"High\", \"intervention\": [{\"type\": \"pain management\", \"detail\": \"swaddling\"}]}, {\"timestamp\": \"2024-11-29 02:41:33\", \"vital_signs\": {\"heart_rate\": \"142 bpm\", \"respiratory_rate\": \"75 breaths/min\", \"body_temperature\": \"36.9 \\\\u00b0C\", \"HR_Delta\": \"4 \\\\u0394 bpm\", \"RespRate_Delta\": \"20 \\\\u0394 breaths/min\", \"Temp_Delta\": \"0.2 \\\\u00b0C\"}, \"pain_level\": \"Moderate\"}, {\"timestamp\": \"2024-11-29 02:46:33\", \"vital_signs\": {\"heart_rate\": \"123 bpm\", \"respiratory_rate\": \"39 breaths/min\", \"body_temperature\": \"37.2 \\\\u00b0C\", \"HR_Delta\": \"19 \\\\u0394 bpm\", \"RespRate_Delta\": \"36 \\\\u0394 breaths/min\", \"Temp_Delta\": \"0.3 \\\\u00b0C\"}, \"pain_level\": \"Low\"}, {\"timestamp\": \"2024-11-29 02:51:33\", \"vital_signs\": {\"heart_rate\": \"124 bpm\", \"respiratory_rate\": \"97 breaths/min\", \"body_temperature\": \"36.8 \\\\u00b0C\", \"HR_Delta\": \"1 \\\\u0394 bpm\", \"RespRate_Delta\": \"58 \\\\u0394 breaths/min\", \"Temp_Delta\": \"0.4 \\\\u00b0C\"}, \"pain_level\": \"Moderate\"}, {\"timestamp\": \"2024-11-29 02:56:33\", \"vital_signs\": {\"heart_rate\": \"123 bpm\", \"respiratory_rate\": \"65 breaths/min\", \"body_temperature\": \"36.7 \\\\u00b0C\", \"HR_Delta\": \"1 \\\\u0394 bpm\", \"RespRate_Delta\": \"32 \\\\u0394 breaths/min\", \"Temp_Delta\": \"0.1 \\\\u00b0C\"}, \"pain_level\": \"Low\", \"intervention\": [{\"type\": \"diaper change\", \"detail\": \"Scheduled diaper change\"}]}, {\"timestamp\": \"2024-11-29 03:01:33\", \"vital_signs\": {\"heart_rate\": \"141 bpm\", \"respiratory_rate\": \"79 breaths/min\", \"body_temperature\": \"37.0 \\\\u00b0C\", \"HR_Delta\": \"17 \\\\u0394 bpm\", \"RespRate_Delta\": \"14 \\\\u0394 breaths/min\", \"Temp_Delta\": \"0.3 \\\\u00b0C\"}, \"pain_level\": \"Moderate\"}, {\"timestamp\": \"2024-11-29 03:06:33\", \"vital_signs\": {\"heart_rate\": \"124 bpm\", \"respiratory_rate\": \"28 breaths/min\", \"body_temperature\": \"37.1 \\\\u00b0C\", \"HR_Delta\": \"16 \\\\u0394 bpm\", \"RespRate_Delta\": \"51 \\\\u0394 breaths/min\", \"Temp_Delta\": \"0.1 \\\\u00b0C\"}, \"pain_level\": \"Low\"}, {\"timestamp\": \"2024-11-29 03:11:33\", \"vital_signs\": {\"heart_rate\": \"118 bpm\", \"respiratory_rate\": \"84 breaths/min\", \"body_temperature\": \"37.3 \\\\u00b0C\", \"HR_Delta\": \"6 \\\\u0394 bpm\", \"RespRate_Delta\": \"56 \\\\u0394 breaths/min\", \"Temp_Delta\": \"0.2 \\\\u00b0C\"}, \"pain_level\": \"Moderate\"}, {\"timestamp\": \"2024-11-29 03:16:33\", \"vital_signs\": {\"heart_rate\": \"141 bpm\", \"respiratory_rate\": \"37 breaths/min\", \"body_temperature\": \"37.3 \\\\u00b0C\", \"HR_Delta\": \"23 \\\\u0394 bpm\", \"RespRate_Delta\": \"47 \\\\u0394 breaths/min\", \"Temp_Delta\": \"0.0 \\\\u00b0C\"}, \"pain_level\": \"Low\"}, {\"timestamp\": \"2024-11-29 03:21:33\", \"vital_signs\": {\"heart_rate\": \"133 bpm\", \"respiratory_rate\": \"65 breaths/min\", \"body_temperature\": \"37.1 \\\\u00b0C\", \"HR_Delta\": \"8 \\\\u0394 bpm\", \"RespRate_Delta\": \"28 \\\\u0394 breaths/min\", \"Temp_Delta\": \"0.2 \\\\u00b0C\"}, \"pain_level\": \"Low\"}, {\"timestamp\": \"2024-11-29 03:26:33\", \"vital_signs\": {\"heart_rate\": \"147 bpm\", \"respiratory_rate\": \"90 breaths/min\", \"body_temperature\": \"37.0 \\\\u00b0C\", \"HR_Delta\": \"14 \\\\u0394 bpm\", \"RespRate_Delta\": \"25 \\\\u0394 breaths/min\", \"Temp_Delta\": \"0.1 \\\\u00b0C\"}, \"pain_level\": \"High\", \"intervention\": [{\"type\": \"pain management\", \"detail\": \"provide non-nutritive sucking\"}]}, {\"timestamp\": \"2024-11-29 03:31:33\", \"vital_signs\": {\"heart_rate\": \"126 bpm\", \"respiratory_rate\": \"29 breaths/min\", \"body_temperature\": \"37.2 \\\\u00b0C\", \"HR_Delta\": \"20 \\\\u0394 bpm\", \"RespRate_Delta\": \"61 \\\\u0394 breaths/min\", \"Temp_Delta\": \"0.2 \\\\u00b0C\"}, \"pain_level\": \"Low\"}, {\"timestamp\": \"2024-11-29 03:36:33\", \"vital_signs\": {\"heart_rate\": \"123 bpm\", \"respiratory_rate\": \"68 breaths/min\", \"body_temperature\": \"36.6 \\\\u00b0C\", \"HR_Delta\": \"3 \\\\u0394 bpm\", \"RespRate_Delta\": \"40 \\\\u0394 breaths/min\", \"Temp_Delta\": \"0.6 \\\\u00b0C\"}, \"pain_level\": \"Low\"}, {\"timestamp\": \"2024-11-29 03:41:33\", \"vital_signs\": {\"heart_rate\": \"124 bpm\", \"respiratory_rate\": \"101 breaths/min\", \"body_temperature\": \"36.8 \\\\u00b0C\", \"HR_Delta\": \"1 \\\\u0394 bpm\", \"RespRate_Delta\": \"33 \\\\u0394 breaths/min\", \"Temp_Delta\": \"0.2 \\\\u00b0C\"}, \"pain_level\": \"Moderate\"}, {\"timestamp\": \"2024-11-29 03:46:33\", \"vital_signs\": {\"heart_rate\": \"125 bpm\", \"respiratory_rate\": \"73 breaths/min\", \"body_temperature\": \"36.7 \\\\u00b0C\", \"HR_Delta\": \"0 \\\\u0394 bpm\", \"RespRate_Delta\": \"28 \\\\u0394 breaths/min\", \"Temp_Delta\": \"0.1 \\\\u00b0C\"}, \"pain_level\": \"Moderate\"}, {\"timestamp\": \"2024-11-29 03:51:33\", \"vital_signs\": {\"heart_rate\": \"145 bpm\", \"respiratory_rate\": \"71 breaths/min\", \"body_temperature\": \"36.7 \\\\u00b0C\", \"HR_Delta\": \"20 \\\\u0394 bpm\", \"RespRate_Delta\": \"2 \\\\u0394 breaths/min\", \"Temp_Delta\": \"0.0 \\\\u00b0C\"}, \"pain_level\": \"Low\"}, {\"timestamp\": \"2024-11-29 03:56:33\", \"vital_signs\": {\"heart_rate\": \"134 bpm\", \"respiratory_rate\": \"75 breaths/min\", \"body_temperature\": \"36.9 \\\\u00b0C\", \"HR_Delta\": \"10 \\\\u0394 bpm\", \"RespRate_Delta\": \"4 \\\\u0394 breaths/min\", \"Temp_Delta\": \"0.2 \\\\u00b0C\"}, \"pain_level\": \"Moderate\", \"intervention\": [{\"type\": \"position change\", \"detail\": \"supine\"}]}, {\"timestamp\": \"2024-11-29 04:01:33\", \"vital_signs\": {\"heart_rate\": \"124 bpm\", \"respiratory_rate\": \"30 breaths/min\", \"body_temperature\": \"36.6 \\\\u00b0C\", \"HR_Delta\": \"10'), Document(id='e00c6809-ae21-47b5-8b7d-8b2ce1f3413c', metadata={'source': 'C:\\\\Users\\\\elfo\\\\Documents\\\\Capstone\\\\LangChainSummarizers\\\\NurseToNurse_SUMMARY\\\\Nurse Chatbot\\\\Final Implementation\\\\Kate_Data.json', 'seq_num': 1, 'start_index': 4798}, page_content='01:16:33\", \"vital_signs\": {\"heart_rate\": \"122 bpm\", \"respiratory_rate\": \"28 breaths/min\", \"body_temperature\": \"37.3 \\\\u00b0C\", \"HR_Delta\": \"5 \\\\u0394 bpm\", \"RespRate_Delta\": \"9 \\\\u0394 breaths/min\", \"Temp_Delta\": \"0.1 \\\\u00b0C\"}, \"pain_level\": \"Low\"}, {\"timestamp\": \"2024-11-29 01:21:33\", \"vital_signs\": {\"heart_rate\": \"125 bpm\", \"respiratory_rate\": \"69 breaths/min\", \"body_temperature\": \"36.8 \\\\u00b0C\", \"HR_Delta\": \"2 \\\\u0394 bpm\", \"RespRate_Delta\": \"41 \\\\u0394 breaths/min\", \"Temp_Delta\": \"0.5 \\\\u00b0C\"}, \"pain_level\": \"Low\"}, {\"timestamp\": \"2024-11-29 01:26:33\", \"vital_signs\": {\"heart_rate\": \"122 bpm\", \"respiratory_rate\": \"64 breaths/min\", \"body_temperature\": \"36.7 \\\\u00b0C\", \"HR_Delta\": \"3 \\\\u0394 bpm\", \"RespRate_Delta\": \"5 \\\\u0394 breaths/min\", \"Temp_Delta\": \"0.1 \\\\u00b0C\"}, \"pain_level\": \"Low\"}, {\"timestamp\": \"2024-11-29 01:31:33\", \"vital_signs\": {\"heart_rate\": \"130 bpm\", \"respiratory_rate\": \"82 breaths/min\", \"body_temperature\": \"37.3 \\\\u00b0C\", \"HR_Delta\": \"8 \\\\u0394 bpm\", \"RespRate_Delta\": \"18 \\\\u0394 breaths/min\", \"Temp_Delta\": \"0.6 \\\\u00b0C\"}, \"pain_level\": \"Moderate\"}, {\"timestamp\": \"2024-11-29 01:36:33\", \"vital_signs\": {\"heart_rate\": \"117 bpm\", \"respiratory_rate\": \"80 breaths/min\", \"body_temperature\": \"36.9 \\\\u00b0C\", \"HR_Delta\": \"13 \\\\u0394 bpm\", \"RespRate_Delta\": \"2 \\\\u0394 breaths/min\", \"Temp_Delta\": \"0.4 \\\\u00b0C\"}, \"pain_level\": \"Moderate\"}, {\"timestamp\": \"2024-11-29 01:41:33\", \"vital_signs\": {\"heart_rate\": \"128 bpm\", \"respiratory_rate\": \"75 breaths/min\", \"body_temperature\": \"37.3 \\\\u00b0C\", \"HR_Delta\": \"12 \\\\u0394 bpm\", \"RespRate_Delta\": \"5 \\\\u0394 breaths/min\", \"Temp_Delta\": \"0.4 \\\\u00b0C\"}, \"pain_level\": \"Moderate\"}, {\"timestamp\": \"2024-11-29 01:46:33\", \"vital_signs\": {\"heart_rate\": \"124 bpm\", \"respiratory_rate\": \"79 breaths/min\", \"body_temperature\": \"36.8 \\\\u00b0C\", \"HR_Delta\": \"4 \\\\u0394 bpm\", \"RespRate_Delta\": \"3 \\\\u0394 breaths/min\", \"Temp_Delta\": \"0.5 \\\\u00b0C\"}, \"pain_level\": \"Moderate\"}, {\"timestamp\": \"2024-11-29 01:51:33\", \"vital_signs\": {\"heart_rate\": \"122 bpm\", \"respiratory_rate\": \"76 breaths/min\", \"body_temperature\": \"36.7 \\\\u00b0C\", \"HR_Delta\": \"3 \\\\u0394 bpm\", \"RespRate_Delta\": \"3 \\\\u0394 breaths/min\", \"Temp_Delta\": \"0.1 \\\\u00b0C\"}, \"pain_level\": \"Moderate\"}, {\"timestamp\": \"2024-11-29 01:56:33\", \"vital_signs\": {\"heart_rate\": \"131 bpm\", \"respiratory_rate\": \"68 breaths/min\", \"body_temperature\": \"36.6 \\\\u00b0C\", \"HR_Delta\": \"10 \\\\u0394 bpm\", \"RespRate_Delta\": \"7 \\\\u0394 breaths/min\", \"Temp_Delta\": \"0.1 \\\\u00b0C\"}, \"pain_level\": \"Low\"}, {\"timestamp\": \"2024-11-29 02:01:33\", \"vital_signs\": {\"heart_rate\": \"134 bpm\", \"respiratory_rate\": \"40 breaths/min\", \"body_temperature\": \"36.5 \\\\u00b0C\", \"HR_Delta\": \"3 \\\\u0394 bpm\", \"RespRate_Delta\": \"28 \\\\u0394 breaths/min\", \"Temp_Delta\": \"0.1 \\\\u00b0C\"}, \"pain_level\": \"Low\", \"intervention\": [{\"type\": \"diaper change\", \"detail\": null}, {\"type\": \"position change\", \"detail\": \"supine\"}]}, {\"timestamp\": \"2024-11-29 02:06:33\", \"vital_signs\": {\"heart_rate\": \"124 bpm\", \"respiratory_rate\": \"86 breaths/min\", \"body_temperature\": \"36.7 \\\\u00b0C\", \"HR_Delta\": \"10 \\\\u0394 bpm\", \"RespRate_Delta\": \"46 \\\\u0394 breaths/min\", \"Temp_Delta\": \"0.2 \\\\u00b0C\"}, \"pain_level\": \"Moderate\"}, {\"timestamp\": \"2024-11-29 02:11:33\", \"vital_signs\": {\"heart_rate\": \"150 bpm\", \"respiratory_rate\": \"65 breaths/min\", \"body_temperature\": \"36.6 \\\\u00b0C\", \"HR_Delta\": \"26 \\\\u0394 bpm\", \"RespRate_Delta\": \"21 \\\\u0394 breaths/min\", \"Temp_Delta\": \"0.1 \\\\u00b0C\"}, \"pain_level\": \"Moderate\"}, {\"timestamp\": \"2024-11-29 02:16:33\", \"vital_signs\": {\"heart_rate\": \"120 bpm\", \"respiratory_rate\": \"31 breaths/min\", \"body_temperature\": \"37.4 \\\\u00b0C\", \"HR_Delta\": \"29 \\\\u0394 bpm\", \"RespRate_Delta\": \"34 \\\\u0394 breaths/min\", \"Temp_Delta\": \"0.8 \\\\u00b0C\"}, \"pain_level\": \"Moderate\"}, {\"timestamp\": \"2024-11-29 02:21:33\", \"vital_signs\": {\"heart_rate\": \"129 bpm\", \"respiratory_rate\": \"82 breaths/min\", \"body_temperature\": \"37.2 \\\\u00b0C\", \"HR_Delta\": \"9 \\\\u0394 bpm\", \"RespRate_Delta\": \"51 \\\\u0394 breaths/min\", \"Temp_Delta\": \"0.2 \\\\u00b0C\"}, \"pain_level\": \"Moderate\"}, {\"timestamp\": \"2024-11-29 02:26:33\", \"vital_signs\": {\"heart_rate\": \"142 bpm\", \"respiratory_rate\": \"36 breaths/min\", \"body_temperature\": \"37.2 \\\\u00b0C\", \"HR_Delta\": \"13 \\\\u0394 bpm\", \"RespRate_Delta\": \"46 \\\\u0394 breaths/min\", \"Temp_Delta\": \"0.0 \\\\u00b0C\"}, \"pain_level\": \"Low\", \"intervention\": [{\"type\": \"position change\", \"detail\": \"left lateral\"}]}, {\"timestamp\": \"2024-11-29 02:31:33\", \"vital_signs\": {\"heart_rate\": \"128 bpm\", \"respiratory_rate\": \"93 breaths/min\", \"body_temperature\": \"37.2 \\\\u00b0C\", \"HR_Delta\": \"14 \\\\u0394 bpm\", \"RespRate_Delta\": \"57 \\\\u0394 breaths/min\", \"Temp_Delta\": \"0.0 \\\\u00b0C\"}, \"pain_level\": \"Moderate\"}, {\"timestamp\": \"2024-11-29 02:36:33\", \"vital_signs\": {\"heart_rate\": \"146 bpm\", \"respiratory_rate\": \"95 breaths/min\", \"body_temperature\": \"37.1 \\\\u00b0C\", \"HR_Delta\": \"17 \\\\u0394 bpm\", \"RespRate_Delta\": \"2 \\\\u0394 breaths/min\", \"Temp_Delta\": \"0.1 \\\\u00b0C\"}, \"pain_level\": \"High\", \"intervention\": [{\"type\": \"pain management\", \"detail\": \"swaddling\"}]}, {\"timestamp\": \"2024-11-29 02:41:33\",'), Document(id='9b44b014-e067-45f6-b9b7-d4edd01787d3', metadata={'source': 'C:\\\\Users\\\\elfo\\\\Documents\\\\Capstone\\\\LangChainSummarizers\\\\NurseToNurse_SUMMARY\\\\Nurse Chatbot\\\\Final Implementation\\\\Kate_Data.json', 'seq_num': 1, 'start_index': 24009}, page_content='{\"heart_rate\": \"130 bpm\", \"respiratory_rate\": \"100 breaths/min\", \"body_temperature\": \"36.5 \\\\u00b0C\", \"HR_Delta\": \"4 \\\\u0394 bpm\", \"RespRate_Delta\": \"14 \\\\u0394 breaths/min\", \"Temp_Delta\": \"0.4 \\\\u00b0C\"}, \"pain_level\": \"Moderate\"}, {\"timestamp\": \"2024-11-29 06:51:33\", \"vital_signs\": {\"heart_rate\": \"148 bpm\", \"respiratory_rate\": \"35 breaths/min\", \"body_temperature\": \"36.6 \\\\u00b0C\", \"HR_Delta\": \"19 \\\\u0394 bpm\", \"RespRate_Delta\": \"64 \\\\u0394 breaths/min\", \"Temp_Delta\": \"0.1 \\\\u00b0C\"}, \"pain_level\": \"Moderate\"}, {\"timestamp\": \"2024-11-29 06:56:33\", \"vital_signs\": {\"heart_rate\": \"141 bpm\", \"respiratory_rate\": \"45 breaths/min\", \"body_temperature\": \"37.1 \\\\u00b0C\", \"HR_Delta\": \"7 \\\\u0394 bpm\", \"RespRate_Delta\": \"9 \\\\u0394 breaths/min\", \"Temp_Delta\": \"0.5 \\\\u00b0C\"}, \"pain_level\": \"Low\"}, {\"timestamp\": \"2024-11-29 07:01:33\", \"vital_signs\": {\"heart_rate\": \"148 bpm\", \"respiratory_rate\": \"91 breaths/min\", \"body_temperature\": \"37.0 \\\\u00b0C\", \"HR_Delta\": \"7 \\\\u0394 bpm\", \"RespRate_Delta\": \"46 \\\\u0394 breaths/min\", \"Temp_Delta\": \"0.1 \\\\u00b0C\"}, \"pain_level\": \"High\", \"intervention\": [{\"type\": \"pain management\", \"detail\": \"provide non-nutritive sucking\"}]}, {\"timestamp\": \"2024-11-29 07:06:33\", \"vital_signs\": {\"heart_rate\": \"121 bpm\", \"respiratory_rate\": \"31 breaths/min\", \"body_temperature\": \"36.7 \\\\u00b0C\", \"HR_Delta\": \"27 \\\\u0394 bpm\", \"RespRate_Delta\": \"60 \\\\u0394 breaths/min\", \"Temp_Delta\": \"0.3 \\\\u00b0C\"}, \"pain_level\": \"Low\"}, {\"timestamp\": \"2024-11-29 07:11:33\", \"vital_signs\": {\"heart_rate\": \"148 bpm\", \"respiratory_rate\": \"71 breaths/min\", \"body_temperature\": \"37.3 \\\\u00b0C\", \"HR_Delta\": \"27 \\\\u0394 bpm\", \"RespRate_Delta\": \"40 \\\\u0394 breaths/min\", \"Temp_Delta\": \"0.6 \\\\u00b0C\"}, \"pain_level\": \"Moderate\"}, {\"timestamp\": \"2024-11-29 07:16:33\", \"vital_signs\": {\"heart_rate\": \"145 bpm\", \"respiratory_rate\": \"68 breaths/min\", \"body_temperature\": \"36.9 \\\\u00b0C\", \"HR_Delta\": \"3 \\\\u0394 bpm\", \"RespRate_Delta\": \"4 \\\\u0394 breaths/min\", \"Temp_Delta\": \"0.4 \\\\u00b0C\"}, \"pain_level\": \"Low\"}, {\"timestamp\": \"2024-11-29 07:21:33\", \"vital_signs\": {\"heart_rate\": \"125 bpm\", \"respiratory_rate\": \"62 breaths/min\", \"body_temperature\": \"36.8 \\\\u00b0C\", \"HR_Delta\": \"21 \\\\u0394 bpm\", \"RespRate_Delta\": \"6 \\\\u0394 breaths/min\", \"Temp_Delta\": \"0.1 \\\\u00b0C\"}, \"pain_level\": \"Low\"}, {\"timestamp\": \"2024-11-29 07:26:33\", \"vital_signs\": {\"heart_rate\": \"136 bpm\", \"respiratory_rate\": \"63 breaths/min\", \"body_temperature\": \"36.5 \\\\u00b0C\", \"HR_Delta\": \"11 \\\\u0394 bpm\", \"RespRate_Delta\": \"1 \\\\u0394 breaths/min\", \"Temp_Delta\": \"0.3 \\\\u00b0C\"}, \"pain_level\": \"Low\"}, {\"timestamp\": \"2024-11-29 07:31:33\", \"vital_signs\": {\"heart_rate\": \"141 bpm\", \"respiratory_rate\": \"33 breaths/min\", \"body_temperature\": \"37.3 \\\\u00b0C\", \"HR_Delta\": \"5 \\\\u0394 bpm\", \"RespRate_Delta\": \"29 \\\\u0394 breaths/min\", \"Temp_Delta\": \"0.8 \\\\u00b0C\"}, \"pain_level\": \"Low\"}, {\"timestamp\": \"2024-11-29 07:36:33\", \"vital_signs\": {\"heart_rate\": \"115 bpm\", \"respiratory_rate\": \"28 breaths/min\", \"body_temperature\": \"36.6 \\\\u00b0C\", \"HR_Delta\": \"26 \\\\u0394 bpm\", \"RespRate_Delta\": \"5 \\\\u0394 breaths/min\", \"Temp_Delta\": \"0.7 \\\\u00b0C\"}, \"pain_level\": \"Low\"}, {\"timestamp\": \"2024-11-29 07:41:33\", \"vital_signs\": {\"heart_rate\": \"137 bpm\", \"respiratory_rate\": \"29 breaths/min\", \"body_temperature\": \"36.6 \\\\u00b0C\", \"HR_Delta\": \"22 \\\\u0394 bpm\", \"RespRate_Delta\": \"0 \\\\u0394 breaths/min\", \"Temp_Delta\": \"0.0 \\\\u00b0C\"}, \"pain_level\": \"Low\"}, {\"timestamp\": \"2024-11-29 07:46:33\", \"vital_signs\": {\"heart_rate\": \"124 bpm\", \"respiratory_rate\": \"96 breaths/min\", \"body_temperature\": \"36.7 \\\\u00b0C\", \"HR_Delta\": \"13 \\\\u0394 bpm\", \"RespRate_Delta\": \"67 \\\\u0394 breaths/min\", \"Temp_Delta\": \"0.1 \\\\u00b0C\"}, \"pain_level\": \"Moderate\"}, {\"timestamp\": \"2024-11-29 07:51:33\", \"vital_signs\": {\"heart_rate\": \"133 bpm\", \"respiratory_rate\": \"64 breaths/min\", \"body_temperature\": \"36.8 \\\\u00b0C\", \"HR_Delta\": \"8 \\\\u0394 bpm\", \"RespRate_Delta\": \"33 \\\\u0394 breaths/min\", \"Temp_Delta\": \"0.1 \\\\u00b0C\"}, \"pain_level\": \"Low\", \"intervention\": [{\"type\": \"position change\", \"detail\": \"left lateral\"}]}]}'), Document(id='3bb87f4c-40df-46d8-a5b3-fb460a0eceda', metadata={'source': 'C:\\\\Users\\\\elfo\\\\Documents\\\\Capstone\\\\LangChainSummarizers\\\\NurseToNurse_SUMMARY\\\\Nurse Chatbot\\\\Final Implementation\\\\Kate_Data.json', 'seq_num': 1, 'start_index': 14402}, page_content='change\", \"detail\": \"supine\"}]}, {\"timestamp\": \"2024-11-29 04:01:33\", \"vital_signs\": {\"heart_rate\": \"124 bpm\", \"respiratory_rate\": \"30 breaths/min\", \"body_temperature\": \"36.6 \\\\u00b0C\", \"HR_Delta\": \"10 \\\\u0394 bpm\", \"RespRate_Delta\": \"44 \\\\u0394 breaths/min\", \"Temp_Delta\": \"0.3 \\\\u00b0C\"}, \"pain_level\": \"Low\"}, {\"timestamp\": \"2024-11-29 04:06:33\", \"vital_signs\": {\"heart_rate\": \"114 bpm\", \"respiratory_rate\": \"44 breaths/min\", \"body_temperature\": \"36.6 \\\\u00b0C\", \"HR_Delta\": \"10 \\\\u0394 bpm\", \"RespRate_Delta\": \"14 \\\\u0394 breaths/min\", \"Temp_Delta\": \"0.0 \\\\u00b0C\"}, \"pain_level\": \"Low\"}, {\"timestamp\": \"2024-11-29 04:11:33\", \"vital_signs\": {\"heart_rate\": \"126 bpm\", \"respiratory_rate\": \"52 breaths/min\", \"body_temperature\": \"36.8 \\\\u00b0C\", \"HR_Delta\": \"11 \\\\u0394 bpm\", \"RespRate_Delta\": \"8 \\\\u0394 breaths/min\", \"Temp_Delta\": \"0.2 \\\\u00b0C\"}, \"pain_level\": \"Low\"}, {\"timestamp\": \"2024-11-29 04:16:33\", \"vital_signs\": {\"heart_rate\": \"137 bpm\", \"respiratory_rate\": \"68 breaths/min\", \"body_temperature\": \"37.2 \\\\u00b0C\", \"HR_Delta\": \"12 \\\\u0394 bpm\", \"RespRate_Delta\": \"16 \\\\u0394 breaths/min\", \"Temp_Delta\": \"0.4 \\\\u00b0C\"}, \"pain_level\": \"Low\"}, {\"timestamp\": \"2024-11-29 04:21:33\", \"vital_signs\": {\"heart_rate\": \"120 bpm\", \"respiratory_rate\": \"64 breaths/min\", \"body_temperature\": \"37.0 \\\\u00b0C\", \"HR_Delta\": \"17 \\\\u0394 bpm\", \"RespRate_Delta\": \"5 \\\\u0394 breaths/min\", \"Temp_Delta\": \"0.2 \\\\u00b0C\"}, \"pain_level\": \"Low\", \"intervention\": [{\"type\": \"position change\", \"detail\": \"right lateral\"}]}, {\"timestamp\": \"2024-11-29 04:26:33\", \"vital_signs\": {\"heart_rate\": \"138 bpm\", \"respiratory_rate\": \"58 breaths/min\", \"body_temperature\": \"37.0 \\\\u00b0C\", \"HR_Delta\": \"18 \\\\u0394 bpm\", \"RespRate_Delta\": \"6 \\\\u0394 breaths/min\", \"Temp_Delta\": \"0.0 \\\\u00b0C\"}, \"pain_level\": \"Low\", \"intervention\": [{\"type\": \"lighting adjustment\", \"detail\": \"dim lights\"}]}, {\"timestamp\": \"2024-11-29 04:31:33\", \"vital_signs\": {\"heart_rate\": \"136 bpm\", \"respiratory_rate\": \"43 breaths/min\", \"body_temperature\": \"37.3 \\\\u00b0C\", \"HR_Delta\": \"2 \\\\u0394 bpm\", \"RespRate_Delta\": \"15 \\\\u0394 breaths/min\", \"Temp_Delta\": \"0.3 \\\\u00b0C\"}, \"pain_level\": \"Low\"}, {\"timestamp\": \"2024-11-29 04:36:33\", \"vital_signs\": {\"heart_rate\": \"124 bpm\", \"respiratory_rate\": \"75 breaths/min\", \"body_temperature\": \"36.8 \\\\u00b0C\", \"HR_Delta\": \"12 \\\\u0394 bpm\", \"RespRate_Delta\": \"32 \\\\u0394 breaths/min\", \"Temp_Delta\": \"0.5 \\\\u00b0C\"}, \"pain_level\": \"Moderate\"}, {\"timestamp\": \"2024-11-29 04:41:33\", \"vital_signs\": {\"heart_rate\": \"120 bpm\", \"respiratory_rate\": \"78 breaths/min\", \"body_temperature\": \"37.1 \\\\u00b0C\", \"HR_Delta\": \"4 \\\\u0394 bpm\", \"RespRate_Delta\": \"4 \\\\u0394 breaths/min\", \"Temp_Delta\": \"0.3 \\\\u00b0C\"}, \"pain_level\": \"Moderate\"}, {\"timestamp\": \"2024-11-29 04:46:33\", \"vital_signs\": {\"heart_rate\": \"130 bpm\", \"respiratory_rate\": \"28 breaths/min\", \"body_temperature\": \"36.7 \\\\u00b0C\", \"HR_Delta\": \"10 \\\\u0394 bpm\", \"RespRate_Delta\": \"50 \\\\u0394 breaths/min\", \"Temp_Delta\": \"0.4 \\\\u00b0C\"}, \"pain_level\": \"Low\"}, {\"timestamp\": \"2024-11-29 04:51:33\", \"vital_signs\": {\"heart_rate\": \"139 bpm\", \"respiratory_rate\": \"40 breaths/min\", \"body_temperature\": \"36.6 \\\\u00b0C\", \"HR_Delta\": \"9 \\\\u0394 bpm\", \"RespRate_Delta\": \"12 \\\\u0394 breaths/min\", \"Temp_Delta\": \"0.1 \\\\u00b0C\"}, \"pain_level\": \"Low\", \"intervention\": [{\"type\": \"oxygen administration\", \"detail\": \"increase flow\"}]}, {\"timestamp\": \"2024-11-29 04:56:33\", \"vital_signs\": {\"heart_rate\": \"125 bpm\", \"respiratory_rate\": \"65 breaths/min\", \"body_temperature\": \"37.0 \\\\u00b0C\", \"HR_Delta\": \"14 \\\\u0394 bpm\", \"RespRate_Delta\": \"25 \\\\u0394 breaths/min\", \"Temp_Delta\": \"0.4 \\\\u00b0C\"}, \"pain_level\": \"Low\"}, {\"timestamp\": \"2024-11-29 05:01:33\", \"vital_signs\": {\"heart_rate\": \"124 bpm\", \"respiratory_rate\": \"57 breaths/min\", \"body_temperature\": \"37.3 \\\\u00b0C\", \"HR_Delta\": \"2 \\\\u0394 bpm\", \"RespRate_Delta\": \"8 \\\\u0394 breaths/min\", \"Temp_Delta\": \"0.3 \\\\u00b0C\"}, \"pain_level\": \"Low\"}, {\"timestamp\": \"2024-11-29 05:06:33\", \"vital_signs\": {\"heart_rate\": \"119 bpm\", \"respiratory_rate\": \"75 breaths/min\", \"body_temperature\": \"36.7 \\\\u00b0C\", \"HR_Delta\": \"5 \\\\u0394 bpm\", \"RespRate_Delta\": \"18 \\\\u0394 breaths/min\", \"Temp_Delta\": \"0.6 \\\\u00b0C\"}, \"pain_level\": \"Moderate\"}, {\"timestamp\": \"2024-11-29 05:11:33\", \"vital_signs\": {\"heart_rate\": \"130 bpm\", \"respiratory_rate\": \"28 breaths/min\", \"body_temperature\": \"37.3 \\\\u00b0C\", \"HR_Delta\": \"11 \\\\u0394 bpm\", \"RespRate_Delta\": \"47 \\\\u0394 breaths/min\", \"Temp_Delta\": \"0.6 \\\\u00b0C\"}, \"pain_level\": \"Low\"}, {\"timestamp\": \"2024-11-29 05:16:33\", \"vital_signs\": {\"heart_rate\": \"129 bpm\", \"respiratory_rate\": \"46 breaths/min\", \"body_temperature\": \"36.8 \\\\u00b0C\", \"HR_Delta\": \"1 \\\\u0394 bpm\", \"RespRate_Delta\": \"18 \\\\u0394 breaths/min\", \"Temp_Delta\": \"0.5 \\\\u00b0C\"}, \"pain_level\": \"Low\"}, {\"timestamp\": \"2024-11-29 05:21:33\", \"vital_signs\": {\"heart_rate\": \"119 bpm\", \"respiratory_rate\": \"45 breaths/min\", \"body_temperature\": \"37.2 \\\\u00b0C\", \"HR_Delta\": \"10 \\\\u0394 bpm\", \"RespRate_Delta\": \"1 \\\\u0394 breaths/min\", \"Temp_Delta\": \"0.4 \\\\u00b0C\"}, \"pain_level\": \"Low\"}, {\"timestamp\": \"2024-11-29 05:26:33\",')]}, 'reference': {'label': '### **Maximum Recorded Vital Signs and Corresponding Timestamps:**- **Maximum Heart Rate:** **150 bpm**- **Occurred at:** **2024-11-29 02:11:33**- **Maximum Respiratory Rate:** **102 breaths/min** - **Occurred at:** **2024-11-29 05:56:33**- **Maximum Body Temperature:** **37.4 °C**- **Occurred at:** **2024-11-28 23:56:33** and **2024-11-29 02:16:33**The respiratory rate indicates tachypnea episode, requiring continued monitoring for signs of **distress or metabolic instability**.'}}}, 'aggregate_metrics': None}\n"
     ]
    }
   ],
   "source": [
    "\n",
    "# Custom evaluator for relevance: compares the generated answer to the original prompt.\n",
    "class RelevanceEvaluator(RunEvaluator):\n",
    "    def __init__(self, eval_llm: Optional[ChatOpenAI] = None):\n",
    "        # If no LLM is provided, instantiate one with \"o3-mini\"\n",
    "        if eval_llm is None:\n",
    "            eval_llm = ChatOpenAI(model=\"o3-mini\", temperature=1)\n",
    "        self.eval_llm = eval_llm\n",
    "        \n",
    "        # Create a labeled_score_string evaluator with the specified LLM\n",
    "        self.evaluator = load_evaluator(\n",
    "            \"labeled_score_string\",\n",
    "            criteria={\"relevance\": \"How well does the generated response address the initial user input?\"},\n",
    "            normalize_by=10,\n",
    "            llm=self.eval_llm  # Pass the LLM to the evaluator\n",
    "        )\n",
    "\n",
    "    def evaluate_run(self, run, example) -> EvaluationResult:\n",
    "        res = self.evaluator.evaluate_strings(\n",
    "            prediction=run.outputs[\"answer\"],\n",
    "            input=run.inputs[\"prompt\"],\n",
    "            reference=run.inputs[\"prompt\"],\n",
    "        )\n",
    "        return EvaluationResult(key=\"labeled_criteria:relevance\", **res)\n",
    "\n",
    "\n",
    "# Custom evaluator for groundedness: combines both the retrieved context and patient context.\n",
    "class GroundednessEvaluator(RunEvaluator):\n",
    "    def __init__(self, eval_llm: Optional[ChatOpenAI] = None):\n",
    "        if eval_llm is None:\n",
    "            eval_llm = ChatOpenAI(model=\"o3-mini\", temperature=1)\n",
    "        self.eval_llm = eval_llm\n",
    "        \n",
    "        self.evaluator = load_evaluator(\n",
    "            \"labeled_score_string\",\n",
    "            criteria={\"groundedness\": \"To what extent does the generated response agree with the retrieved context?\"},\n",
    "            normalize_by=10,\n",
    "            llm=self.eval_llm  # Pass the LLM to the evaluator\n",
    "        )\n",
    "\n",
    "    def evaluate_run(self, run, example) -> EvaluationResult:\n",
    "        # Get contexts from outputs\n",
    "        retrieved_context = run.outputs.get(\"retrieved_context\", \"\")\n",
    "        patient_context = run.outputs.get(\"patient_context\", \"\")\n",
    "        \n",
    "        # Convert lists to strings if necessary.\n",
    "        if isinstance(patient_context, list):\n",
    "            patient_context = \"\\n\".join([doc.page_content for doc in patient_context])\n",
    "        if isinstance(retrieved_context, list):\n",
    "            retrieved_context = \"\\n\".join([str(item) for item in retrieved_context])\n",
    "        \n",
    "        combined_context = \"\\n\".join([retrieved_context, patient_context]).strip()\n",
    "        \n",
    "        res = self.evaluator.evaluate_strings(\n",
    "            prediction=run.outputs.get(\"answer\", \"\"),\n",
    "            input=\"\",\n",
    "            reference=combined_context,\n",
    "        )\n",
    "        return EvaluationResult(key=\"labeled_criteria:groundedness\", **res)\n",
    "\n",
    "\n",
    "# Custom QA evaluator that maps the output keys correctly\n",
    "class QAEvaluator(RunEvaluator):\n",
    "    def __init__(self, eval_llm: Optional[ChatOpenAI] = None):\n",
    "        if eval_llm is None:\n",
    "            eval_llm = ChatOpenAI(model=\"o3-mini\", temperature=1)\n",
    "        self.eval_llm = eval_llm\n",
    "        \n",
    "        self.evaluator = load_evaluator(\n",
    "            \"qa\",\n",
    "            llm=self.eval_llm\n",
    "        )\n",
    "\n",
    "    def evaluate_run(self, run, example) -> EvaluationResult:\n",
    "        res = self.evaluator.evaluate_strings(\n",
    "            prediction=run.outputs.get(\"answer\", \"\"),\n",
    "            input=run.inputs.get(\"prompt\", \"\"),\n",
    "            reference=example.outputs.get(\"label\", \"\"),\n",
    "        )\n",
    "        return EvaluationResult(key=\"qa\", **res)\n",
    "\n",
    "\n",
    "# Specify your custom evaluator LLM\n",
    "custom_eval_llm = ChatOpenAI(model=\"o3-mini\", temperature=1)\n",
    "\n",
    "eval_config = RunEvalConfig(\n",
    "    custom_evaluators=[\n",
    "        QAEvaluator(eval_llm=custom_eval_llm),\n",
    "        RelevanceEvaluator(eval_llm=custom_eval_llm),\n",
    "        GroundednessEvaluator(eval_llm=custom_eval_llm)\n",
    "    ],\n",
    "    input_key=\"prompt\",\n",
    "    reference_key=\"label\",\n",
    ")\n",
    "\n",
    "\n",
    "# Wrap your summarization chain so that it returns both the answer and the contexts.\n",
    "def summarization_chain(inputs):\n",
    "    patient_file = inputs.get(\"patient_file\")\n",
    "    session_id = \"min1\"\n",
    "    prompt = inputs.get(\"prompt\")\n",
    "    # Directly call your pipeline function, which now returns all desired keys.\n",
    "    output = Nurse2NurseChatbotSummarize(patient_file, session_id, prompt)\n",
    "    # output should be a dictionary with keys \"answer\", \"retrieved_context\", and \"patient_context\"\n",
    "    return output\n",
    "\n",
    "\n",
    "# Run the evaluation on your dataset.\n",
    "results = client.run_on_dataset(\n",
    "    llm_or_chain_factory=summarization_chain,\n",
    "    dataset_name=dataset_name,\n",
    "    evaluation=eval_config,\n",
    ")\n",
    "\n",
    "print(\"Evaluation Results:\", results)"
   ]
  }
 ],
 "metadata": {
  "kernelspec": {
   "display_name": "Python 3",
   "language": "python",
   "name": "python3"
  },
  "language_info": {
   "codemirror_mode": {
    "name": "ipython",
    "version": 3
   },
   "file_extension": ".py",
   "mimetype": "text/x-python",
   "name": "python",
   "nbconvert_exporter": "python",
   "pygments_lexer": "ipython3",
   "version": "3.12.1"
  }
 },
 "nbformat": 4,
 "nbformat_minor": 2
}
